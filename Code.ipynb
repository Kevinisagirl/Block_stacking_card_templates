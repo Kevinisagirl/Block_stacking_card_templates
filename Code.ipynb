{
 "cells": [
  {
   "cell_type": "code",
   "execution_count": 3,
   "metadata": {},
   "outputs": [
    {
     "name": "stdout",
     "output_type": "stream",
     "text": [
      "Collecting reportlab\n",
      "  Downloading reportlab-4.2.5-py3-none-any.whl (1.9 MB)\n",
      "     ---------------------------------------- 1.9/1.9 MB 5.4 MB/s eta 0:00:00\n",
      "Collecting chardet\n",
      "  Downloading chardet-5.2.0-py3-none-any.whl (199 kB)\n",
      "     -------------------------------------- 199.4/199.4 kB 4.0 MB/s eta 0:00:00\n",
      "Requirement already satisfied: pillow>=9.0.0 in c:\\users\\kevin\\appdata\\local\\packages\\pythonsoftwarefoundation.python.3.10_qbz5n2kfra8p0\\localcache\\local-packages\\python310\\site-packages (from reportlab) (11.0.0)\n",
      "Installing collected packages: chardet, reportlab\n",
      "Successfully installed chardet-5.2.0 reportlab-4.2.5\n"
     ]
    },
    {
     "name": "stderr",
     "output_type": "stream",
     "text": [
      "\n",
      "[notice] A new release of pip is available: 23.0.1 -> 24.3.1\n",
      "[notice] To update, run: C:\\Users\\kevin\\AppData\\Local\\Microsoft\\WindowsApps\\PythonSoftwareFoundation.Python.3.10_qbz5n2kfra8p0\\python.exe -m pip install --upgrade pip\n"
     ]
    }
   ],
   "source": [
    "!pip install reportlab"
   ]
  },
  {
   "cell_type": "code",
   "execution_count": 2,
   "metadata": {},
   "outputs": [
    {
     "name": "stdout",
     "output_type": "stream",
     "text": [
      "Collecting pillow\n",
      "  Downloading pillow-11.0.0-cp310-cp310-win_amd64.whl (2.6 MB)\n",
      "     ---------------------------------------- 2.6/2.6 MB 6.3 MB/s eta 0:00:00\n",
      "Installing collected packages: pillow\n",
      "Successfully installed pillow-11.0.0\n"
     ]
    },
    {
     "name": "stderr",
     "output_type": "stream",
     "text": [
      "\n",
      "[notice] A new release of pip is available: 23.0.1 -> 24.3.1\n",
      "[notice] To update, run: C:\\Users\\kevin\\AppData\\Local\\Microsoft\\WindowsApps\\PythonSoftwareFoundation.Python.3.10_qbz5n2kfra8p0\\python.exe -m pip install --upgrade pip\n"
     ]
    }
   ],
   "source": [
    "!pip install pillow"
   ]
  },
  {
   "cell_type": "code",
   "execution_count": 112,
   "metadata": {},
   "outputs": [
    {
     "data": {
      "text/plain": [
       "[('sphere', 'red'),\n",
       " ('sphere', 'red'),\n",
       " ('sphere', 'red'),\n",
       " ('sphere', 'red'),\n",
       " ('sphere', 'red'),\n",
       " ('sphere', 'red'),\n",
       " ('sphere', 'red'),\n",
       " ('sphere', 'red'),\n",
       " ('sphere', 'orange'),\n",
       " ('sphere', 'orange')]"
      ]
     },
     "execution_count": 112,
     "metadata": {},
     "output_type": "execute_result"
    }
   ],
   "source": [
    "import random\n",
    "from PIL import Image, ImageDraw, ImageFont\n",
    "from reportlab.lib.pagesizes import letter\n",
    "from reportlab.pdfgen import canvas\n",
    "\n",
    "# Block types and quantities\n",
    "blocks = {\n",
    "    'sphere':{\n",
    "        'red':8,\n",
    "        'orange':5,\n",
    "        'yellow':3,\n",
    "        'green':9,\n",
    "        'blue':5,\n",
    "        'purple':5\n",
    "    },\n",
    "    'cube': {\n",
    "        'red':6,\n",
    "        'orange':3,\n",
    "        'yellow':4,\n",
    "        'green':4,\n",
    "        'blue':6,\n",
    "        'purple':2\n",
    "    },\n",
    "    'cylinder': {\n",
    "        'red':2,\n",
    "        'orange':5,\n",
    "        'yellow':3,\n",
    "        'green':6,\n",
    "        'blue':5,\n",
    "        'purple':4\n",
    "    }\n",
    "}\n",
    "\n",
    "block_colors = {\n",
    "        'red': (214, 66, 66),  # Red\n",
    "        'orange': (245, 129, 66),  # Orange\n",
    "        'yellow': (250, 213, 65),  # Yellow\n",
    "        'blue': (2, 161, 219),  # Blue\n",
    "        'green': (2, 219, 136),  # Green\n",
    "        'purple': (62, 25, 125)\n",
    "    }\n",
    "\n",
    "bucket = [z for y in [[(shape,color)]*cnt for shape in blocks.keys() for color,cnt in blocks[shape].items()] for z in y]\n",
    "bucket[0:10]\n"
   ]
  },
  {
   "cell_type": "code",
   "execution_count": 113,
   "metadata": {},
   "outputs": [
    {
     "data": {
      "text/plain": [
       "[[('sphere', 'red'),\n",
       "  ('sphere', 'orange'),\n",
       "  ('cube', 'red'),\n",
       "  ('cylinder', 'orange'),\n",
       "  ('cylinder', 'red')],\n",
       " [('cylinder', 'purple'),\n",
       "  ('cube', 'blue'),\n",
       "  ('sphere', 'green'),\n",
       "  ('cube', 'blue'),\n",
       "  ('sphere', 'red')],\n",
       " [('cylinder', 'purple'),\n",
       "  ('cube', 'blue'),\n",
       "  ('cylinder', 'blue'),\n",
       "  ('sphere', 'red'),\n",
       "  ('cylinder', 'yellow')]]"
      ]
     },
     "execution_count": 113,
     "metadata": {},
     "output_type": "execute_result"
    }
   ],
   "source": [
    "# Define function to generate random block groups\n",
    "def generate_groups(block_list):\n",
    "    random.shuffle(block_list)  # Shuffle the list to randomize the blocks\n",
    "    holder = block_list.copy()\n",
    "    \n",
    "    groups = []\n",
    "    while len(groups) < 3:  # Ensure that each group has exactly 5 blocks\n",
    "        group = [holder.pop() for _ in range(5)]  # Pop 5 blocks for each group\n",
    "        groups.append(group)\n",
    "    \n",
    "    return groups\n",
    "\n",
    "generate_groups(bucket)"
   ]
  },
  {
   "cell_type": "code",
   "execution_count": 183,
   "metadata": {},
   "outputs": [
    {
     "data": {
      "image/jpeg": "[encoded data removed]",
      "image/png": "[encoded data removed]",
      "text/plain": [
       "<PIL.Image.Image image mode=RGB size=500x405>"
      ]
     },
     "execution_count": 183,
     "metadata": {},
     "output_type": "execute_result"
    }
   ],
   "source": [
    "def draw_cylinder(draw, i, height, color):\n",
    "    # left, top, right, bottom\n",
    "    # Draw bottom ellipse\n",
    "    draw.ellipse((20, 80 - 20 + i * height, 80, 80 + i * height), fill=color, outline=\"black\",width=2)\n",
    "    # Draw rectangle\n",
    "    draw.rectangle([20, 20 + i * height, 80, 80 - 10 + i * height], fill=color) # left x, top left y, right x, bottom right y\n",
    "    # Draw top ellip,se\n",
    "    draw.ellipse((20, 20 - 10 + i * height, 80, 20 + 10 + i * height), fill=color, outline=\"black\",width=2)\n",
    "    # draw sides outlines\n",
    "    draw.line((20, 20 + i * height, 20, 80 - 10 + i * height),fill=\"black\",width=2)\n",
    "    draw.line((80 - 1, 20 + i * height, 80 - 1, 80 - 10 + i * height),fill=\"black\",width=2)\n",
    "\n",
    "    # draw rod\n",
    "    draw.rectangle([50 - 5, 20 - 10 + i * height, 50 + 5, 20 + i * height],fill=\"tan\")\n",
    "    draw.line((50 - 5, 20 - 10 + i * height, 50 - 5, 20 + i * height),fill=\"black\",width=2)\n",
    "    draw.line((50 + 5-1, 20 - 10 + i * height, 50 + 5-1, 20 + i * height),fill=\"black\",width=2)\n",
    "    \n",
    "def render_rods(rods):\n",
    "    width = 100\n",
    "    height = 75\n",
    "    platform_width = width * (len(rods) + len(rods) - 1)\n",
    "    platform_height = height * len(rods[0]) + 30\n",
    "    img = Image.new('RGB', (platform_width, platform_height), (255, 255, 255))\n",
    "    for j, group in enumerate(rods):\n",
    "        rod_image = Image.new('RGB', (width, height * len(rods[0]) + 20), (255, 255, 255))\n",
    "        draw = ImageDraw.Draw(rod_image)\n",
    "        render_group(rod_image, draw, group, height)\n",
    "\n",
    "        img.paste(rod_image,(j*width*2,0))\n",
    "\n",
    "    # add bottom platform\n",
    "    draw = ImageDraw.Draw(img)\n",
    "    # left, top, right, bottom\n",
    "    draw.rectangle((0, platform_height - 20, platform_width, platform_height),fill='tan',outline=\"black\",width=2)\n",
    "\n",
    "\n",
    "    return img, platform_width, platform_height\n",
    "        \n",
    "\n",
    "def render_group(img, draw, group, height):\n",
    "    # render rod\n",
    "    draw.rectangle([50 - 5, 0, 50 + 5, img.height],fill=\"tan\",outline=\"black\",width=2)\n",
    "    for i, block in enumerate(group):\n",
    "        color = block_colors[block[1]]\n",
    "        # Render as simple rectangles or circles for shapes\n",
    "        if block[0] == 'cylinder':\n",
    "            draw_cylinder(draw, i, height, color)\n",
    "        elif block[0] == 'cube':\n",
    "            draw.rectangle([20, \n",
    "                            20 + i * height, \n",
    "                            80, \n",
    "                            80 + i * height], fill=color,outline=\"black\",width=2)\n",
    "        elif block[0] == 'sphere':\n",
    "            # Draw a circle using an ellipse with a square bounding box\n",
    "            left = 20 - 2\n",
    "            top = 20 -2 + i * height\n",
    "            right = 80 + 2\n",
    "            bottom = 80 + 2 + i * height\n",
    "            draw.ellipse([left, top, right, bottom], fill=color,outline=\"black\",width=2)\n",
    "\n",
    "\n",
    "t_groups = generate_groups(bucket)\n",
    "t_img, _, _ = render_rods(t_groups)\n",
    "t_img"
   ]
  },
  {
   "cell_type": "code",
   "execution_count": 205,
   "metadata": {},
   "outputs": [],
   "source": [
    "\n",
    "# Create PDF\n",
    "def create_pdf(platform_img1, platform_img2, w, h):\n",
    "    c = canvas.Canvas(\"game_templates.pdf\", pagesize=letter)\n",
    "    img_path = \"group_image.png\"\n",
    "    platform_img1.save(img_path)\n",
    "        \n",
    "    c.drawImage(img_path, 90, 55, width=w, height=h)\n",
    "    c.drawImage(img_path, 90, h+100, width=w, height=h)\n",
    "    c.showPage()\n",
    "\n",
    "        \n",
    "    c.save()\n",
    "\n",
    "# Generate and render the groups\n",
    "t_groups = generate_groups(bucket)\n",
    "t_img, w, h = render_rods(t_groups)\n",
    "create_pdf(t_img,t_img, w-60, h-80)"
   ]
  },
  {
   "cell_type": "code",
   "execution_count": 210,
   "metadata": {},
   "outputs": [],
   "source": [
    "pages = 50\n",
    "\n",
    "c = canvas.Canvas(\"game_cards.pdf\", pagesize=letter)\n",
    "    \n",
    "for p in range(pages):\n",
    "    platforms = []\n",
    "    for s in range(2):\n",
    "        groups = generate_groups(bucket)\n",
    "        platform, w, h = render_rods(groups)\n",
    "\n",
    "        # save the image\n",
    "        img_path = \"group_image\"+str(p)+\"_\"+str(s)+\".png\"\n",
    "        platform.save(img_path)\n",
    "        platforms.append(img_path)\n",
    "        \n",
    "    c.drawImage(platforms[0], 90, 55, width=w-60, height=h-80)\n",
    "    c.drawImage(platforms[1], 90, h-80+100, width=w-60, height=h-80)\n",
    "    c.showPage()\n",
    "    \n",
    "c.save()"
   ]
  }
 ],
 "metadata": {
  "kernelspec": {
   "display_name": "Python 3",
   "language": "python",
   "name": "python3"
  },
  "language_info": {
   "codemirror_mode": {
    "name": "ipython",
    "version": 3
   },
   "file_extension": ".py",
   "mimetype": "text/x-python",
   "name": "python",
   "nbconvert_exporter": "python",
   "pygments_lexer": "ipython3",
   "version": "3.10.11"
  }
 },
 "nbformat": 4,
 "nbformat_minor": 2
}
